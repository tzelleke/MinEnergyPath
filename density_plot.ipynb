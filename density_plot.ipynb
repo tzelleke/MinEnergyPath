{
 "worksheets": [
  {
   "cells": [
    {
     "cell_type": "code",
     "metadata": {},
     "outputs": [],
     "input": [
      "import matplotlib.pyplot as plt\n",
      "import numpy as np"
     ],
     "language": "python",
     "prompt_number": 1
    },
    {
     "cell_type": "code",
     "metadata": {},
     "outputs": [],
     "input": [
      "from floodfill.vreco import Vreco\n",
      "\n",
      "v = Vreco('data/colvar_mtd',\n",
      "          'data/parvar_mtd')\n",
      "pot, grid_vecs = v.pot(4000)"
     ],
     "language": "python",
     "prompt_number": 2
    },
    {
     "cell_type": "code",
     "metadata": {},
     "outputs": [],
     "input": [
      "extents = [(gv[0], gv[-1]) for gv in grid_vecs]"
     ],
     "language": "python",
     "prompt_number": 20
    },
    {
     "cell_type": "code",
     "metadata": {},
     "outputs": [],
     "input": [
      "fig = plt.figure(figsize=(8, 6), dpi=80)\n",
      "ax = fig.add_axes([0., 0., 1, 1])\n",
      "ax.imshow(-pot.T, origin='lower', aspect=0.75,\n",
      "          interpolation='bilinear')\n",
      "ax.grid(True)\n",
      "plt.show()"
     ],
     "language": "python",
     "prompt_number": 45
    }
   ]
  }
 ],
 "cells": [],
 "metadata": {
  "name": "density_plot"
 },
 "nbformat": 3,
 "nbformat_minor": 0
}